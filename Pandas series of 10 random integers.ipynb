{
 "cells": [
  {
   "cell_type": "code",
   "execution_count": 24,
   "id": "8d81a01d-ddd7-45bc-be0d-0f22449ba947",
   "metadata": {},
   "outputs": [
    {
     "name": "stdout",
     "output_type": "stream",
     "text": [
      "0    62\n",
      "1    46\n",
      "2    91\n",
      "3    76\n",
      "4    97\n",
      "5    13\n",
      "6    51\n",
      "7    12\n",
      "8     9\n",
      "9    60\n",
      "dtype: int32\n"
     ]
    }
   ],
   "source": [
    "# Create a pandas Series of 10 random integers between 1 and 100.\n",
    "import numpy as np\n",
    "import pandas as pd\n",
    "\n",
    "data = np.random.randint(1, 101, 10)  # 10 random integers between 1 and 100\n",
    "series = pd.Series(data)\n",
    "\n",
    "print(series)\n"
   ]
  },
  {
   "cell_type": "code",
   "execution_count": 26,
   "id": "f89a1a2f-f73f-4053-b12e-6bfe1e3154d4",
   "metadata": {},
   "outputs": [],
   "source": [
    "data2 = np.random.randint(2, 200, 5)"
   ]
  },
  {
   "cell_type": "code",
   "execution_count": 32,
   "id": "8f0549ca-17cf-444d-8042-1553c687f67d",
   "metadata": {},
   "outputs": [
    {
     "name": "stdout",
     "output_type": "stream",
     "text": [
      "0    119\n",
      "1    151\n",
      "2     54\n",
      "3    121\n",
      "4     22\n",
      "dtype: int32\n"
     ]
    }
   ],
   "source": [
    "series = pd.Series(data2)\n",
    "print(series)"
   ]
  },
  {
   "cell_type": "code",
   "execution_count": 34,
   "id": "53520529-6bfc-4149-ba91-73ac8310cc57",
   "metadata": {},
   "outputs": [],
   "source": [
    "# this is not a random numbers\n",
    "data3 = np.arange(1, 101, 2)"
   ]
  },
  {
   "cell_type": "code",
   "execution_count": 36,
   "id": "a5255ca5-9329-4060-ba14-577e2b090b76",
   "metadata": {},
   "outputs": [],
   "source": [
    "series = pd.Series(data3)"
   ]
  },
  {
   "cell_type": "code",
   "execution_count": 38,
   "id": "de807109-8aaf-4a78-bfd8-85a7486a25a7",
   "metadata": {},
   "outputs": [
    {
     "name": "stdout",
     "output_type": "stream",
     "text": [
      "0      1\n",
      "1      3\n",
      "2      5\n",
      "3      7\n",
      "4      9\n",
      "5     11\n",
      "6     13\n",
      "7     15\n",
      "8     17\n",
      "9     19\n",
      "10    21\n",
      "11    23\n",
      "12    25\n",
      "13    27\n",
      "14    29\n",
      "15    31\n",
      "16    33\n",
      "17    35\n",
      "18    37\n",
      "19    39\n",
      "20    41\n",
      "21    43\n",
      "22    45\n",
      "23    47\n",
      "24    49\n",
      "25    51\n",
      "26    53\n",
      "27    55\n",
      "28    57\n",
      "29    59\n",
      "30    61\n",
      "31    63\n",
      "32    65\n",
      "33    67\n",
      "34    69\n",
      "35    71\n",
      "36    73\n",
      "37    75\n",
      "38    77\n",
      "39    79\n",
      "40    81\n",
      "41    83\n",
      "42    85\n",
      "43    87\n",
      "44    89\n",
      "45    91\n",
      "46    93\n",
      "47    95\n",
      "48    97\n",
      "49    99\n",
      "dtype: int32\n"
     ]
    }
   ],
   "source": [
    "print(series)"
   ]
  },
  {
   "cell_type": "code",
   "execution_count": 40,
   "id": "f793325f-bd11-44d3-9439-cdd53daa7336",
   "metadata": {},
   "outputs": [
    {
     "data": {
      "text/plain": [
       "array([97, 29, 78, 88, 52, 53, 75, 17, 57, 86])"
      ]
     },
     "execution_count": 40,
     "metadata": {},
     "output_type": "execute_result"
    }
   ],
   "source": [
    "data4 = np.random.randint(1, 101, 10)\n",
    "data4"
   ]
  },
  {
   "cell_type": "code",
   "execution_count": 42,
   "id": "79dae2ec-bc8a-4aee-b372-eb52c7ebbd07",
   "metadata": {},
   "outputs": [],
   "source": [
    "series = pd.Series(data4)"
   ]
  },
  {
   "cell_type": "code",
   "execution_count": 46,
   "id": "d5e1e3da-342c-4546-8923-82c9d1371789",
   "metadata": {},
   "outputs": [
    {
     "name": "stdout",
     "output_type": "stream",
     "text": [
      "The random series are = \n",
      "0    97\n",
      "1    29\n",
      "2    78\n",
      "3    88\n",
      "4    52\n",
      "5    53\n",
      "6    75\n",
      "7    17\n",
      "8    57\n",
      "9    86\n",
      "dtype: int32\n"
     ]
    }
   ],
   "source": [
    "print(f\"The random series are = \\n{series}\")"
   ]
  },
  {
   "cell_type": "code",
   "execution_count": null,
   "id": "39e8cc56-4c89-49aa-a722-31ad77403963",
   "metadata": {},
   "outputs": [],
   "source": []
  }
 ],
 "metadata": {
  "kernelspec": {
   "display_name": "Python [conda env:base] *",
   "language": "python",
   "name": "conda-base-py"
  },
  "language_info": {
   "codemirror_mode": {
    "name": "ipython",
    "version": 3
   },
   "file_extension": ".py",
   "mimetype": "text/x-python",
   "name": "python",
   "nbconvert_exporter": "python",
   "pygments_lexer": "ipython3",
   "version": "3.12.7"
  }
 },
 "nbformat": 4,
 "nbformat_minor": 5
}
