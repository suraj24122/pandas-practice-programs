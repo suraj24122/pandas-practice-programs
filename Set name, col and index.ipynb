{
 "cells": [
  {
   "cell_type": "code",
   "execution_count": 1,
   "id": "1e1d20e2-51c6-4161-9e8f-5f328e1e95c5",
   "metadata": {},
   "outputs": [],
   "source": [
    "# Set Name column as index."
   ]
  },
  {
   "cell_type": "code",
   "execution_count": 3,
   "id": "08c50d6e-434e-4e53-8c91-a8a90e950949",
   "metadata": {},
   "outputs": [],
   "source": [
    "import pandas as pd"
   ]
  },
  {
   "cell_type": "code",
   "execution_count": 6,
   "id": "b246e22a-d4b5-4f63-ae5e-bd1ec0c3256f",
   "metadata": {},
   "outputs": [],
   "source": [
    "data = [\n",
    "    [\"Alice\", 25, \"Delhi\"],\n",
    "    [\"Bob\", 30,\"Mumbai\"],\n",
    "    [\"Charlie\", 35, \"Hyderabad\"],\n",
    "    [\"Suraj\", 19, \"Kolkata\"],\n",
    "    [\"Shubham\", 20, \"Benguluru\"]\n",
    "]"
   ]
  },
  {
   "cell_type": "code",
   "execution_count": 15,
   "id": "23c54085-8ae1-4dfd-97a1-a94d4be1c94c",
   "metadata": {},
   "outputs": [
    {
     "name": "stdout",
     "output_type": "stream",
     "text": [
      "         Age       City\n",
      "Name                   \n",
      "Alice     25      Delhi\n",
      "Bob       30     Mumbai\n",
      "Charlie   35  Hyderabad\n",
      "Suraj     19    Kolkata\n",
      "Shubham   20  Benguluru\n"
     ]
    }
   ],
   "source": [
    "df = pd.DataFrame(data, columns = [\"Name\", \"Age\", \"City\"])\n",
    "set_col_name = df.set_index(\"Name\")\n",
    "print(set_col_name)"
   ]
  },
  {
   "cell_type": "code",
   "execution_count": 29,
   "id": "01b36c85-d5d0-4166-b4ee-ad3f66fdf272",
   "metadata": {},
   "outputs": [],
   "source": [
    "# selecting the age and city\n",
    "select_age_city = df[[\"Age\", \"City\"]]"
   ]
  },
  {
   "cell_type": "code",
   "execution_count": 31,
   "id": "478bcea7-a6a1-4624-b528-2f3e76a1a0cf",
   "metadata": {},
   "outputs": [
    {
     "name": "stdout",
     "output_type": "stream",
     "text": [
      "   Age       City\n",
      "0   25      Delhi\n",
      "1   30     Mumbai\n",
      "2   35  Hyderabad\n",
      "3   19    Kolkata\n",
      "4   20  Benguluru\n"
     ]
    }
   ],
   "source": [
    "print(select_age_city)"
   ]
  },
  {
   "cell_type": "code",
   "execution_count": null,
   "id": "bd2c1598-41ea-4028-882b-10aa35ba5907",
   "metadata": {},
   "outputs": [],
   "source": []
  }
 ],
 "metadata": {
  "kernelspec": {
   "display_name": "Python [conda env:base] *",
   "language": "python",
   "name": "conda-base-py"
  },
  "language_info": {
   "codemirror_mode": {
    "name": "ipython",
    "version": 3
   },
   "file_extension": ".py",
   "mimetype": "text/x-python",
   "name": "python",
   "nbconvert_exporter": "python",
   "pygments_lexer": "ipython3",
   "version": "3.12.7"
  }
 },
 "nbformat": 4,
 "nbformat_minor": 5
}
