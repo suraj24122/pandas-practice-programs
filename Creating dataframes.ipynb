{
 "cells": [
  {
   "cell_type": "code",
   "execution_count": 1,
   "id": "a11b7560-0ae6-45a7-9941-4ff8b82cda94",
   "metadata": {},
   "outputs": [],
   "source": [
    "# Create a DataFrame with columns: Name (5 random names), Age (5 random integers between 18 and 30),\n",
    "# City (5 different cities)"
   ]
  },
  {
   "cell_type": "code",
   "execution_count": 3,
   "id": "3220aaf2-6195-4b15-ae93-34b01b1c5722",
   "metadata": {},
   "outputs": [],
   "source": [
    "import pandas as pd"
   ]
  },
  {
   "cell_type": "code",
   "execution_count": 12,
   "id": "3578a963-8e2e-4a02-8b4b-7e7a570d4b92",
   "metadata": {},
   "outputs": [],
   "source": [
    "data = [\n",
    "    [\"Alice\", 25, \"Delhi\"],\n",
    "    [\"Bob\", 30,\"Mumbai\"],\n",
    "    [\"Charlie\", 35, \"Hyderabad\"],\n",
    "    [\"Suraj\", 19, \"Kolkata\"],\n",
    "    [\"Shubham\", 20, \"Benguluru\"]\n",
    "]"
   ]
  },
  {
   "cell_type": "code",
   "execution_count": 14,
   "id": "d25b4f8b-83c9-4ac0-a462-e3a34157fdf9",
   "metadata": {},
   "outputs": [
    {
     "data": {
      "text/plain": [
       "[['Alice', 25, 'Delhi'],\n",
       " ['Bob', 30, 'Mumbai'],\n",
       " ['Charlie', 35, 'Hyderabad'],\n",
       " ['Suraj', 19, 'Kolkata'],\n",
       " ['Shubham', 20, 'Benguluru']]"
      ]
     },
     "execution_count": 14,
     "metadata": {},
     "output_type": "execute_result"
    }
   ],
   "source": [
    "data"
   ]
  },
  {
   "cell_type": "code",
   "execution_count": 18,
   "id": "428733b7-8d98-4981-bb94-f54bd0e5a351",
   "metadata": {},
   "outputs": [
    {
     "name": "stdout",
     "output_type": "stream",
     "text": [
      "      Name  Age       City\n",
      "0    Alice   25      Delhi\n",
      "1      Bob   30     Mumbai\n",
      "2  Charlie   35  Hyderabad\n",
      "3    Suraj   19    Kolkata\n",
      "4  Shubham   20  Benguluru\n"
     ]
    }
   ],
   "source": [
    "df = pd.DataFrame(data, columns = [\"Name\", \"Age\", \"City\"])\n",
    "print(df)"
   ]
  },
  {
   "cell_type": "code",
   "execution_count": null,
   "id": "7282fd45-b175-4548-86b3-ef2d8b7e5851",
   "metadata": {},
   "outputs": [],
   "source": []
  }
 ],
 "metadata": {
  "kernelspec": {
   "display_name": "Python [conda env:base] *",
   "language": "python",
   "name": "conda-base-py"
  },
  "language_info": {
   "codemirror_mode": {
    "name": "ipython",
    "version": 3
   },
   "file_extension": ".py",
   "mimetype": "text/x-python",
   "name": "python",
   "nbconvert_exporter": "python",
   "pygments_lexer": "ipython3",
   "version": "3.12.7"
  }
 },
 "nbformat": 4,
 "nbformat_minor": 5
}
