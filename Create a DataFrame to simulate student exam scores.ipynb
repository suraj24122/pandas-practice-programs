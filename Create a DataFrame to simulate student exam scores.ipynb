{
 "cells": [
  {
   "cell_type": "code",
   "execution_count": 1,
   "id": "3155e59c-0c3a-4d60-a7b4-9b5c869f18e9",
   "metadata": {},
   "outputs": [],
   "source": [
    "# Create a DataFrame to simulate student exam scores\n",
    "import pandas as pd"
   ]
  },
  {
   "cell_type": "code",
   "execution_count": 5,
   "id": "a7ec0d23-5210-47f0-9385-b826b9d57d76",
   "metadata": {},
   "outputs": [],
   "source": [
    "data = {\n",
    "    'Student': ['Alice', 'Bob', 'Charlie', 'David', 'Eva'],\n",
    "    'Math': [85, 78, 92, 69, 88],\n",
    "    'Physics': [90, 72, 85, 60, 95],\n",
    "    'Chemistry': [78, 85, 80, 75, 92]\n",
    "}"
   ]
  },
  {
   "cell_type": "code",
   "execution_count": 7,
   "id": "d73a6fc5-e9cc-4471-8286-1ada249602b6",
   "metadata": {},
   "outputs": [
    {
     "data": {
      "text/plain": [
       "{'Student': ['Alice', 'Bob', 'Charlie', 'David', 'Eva'],\n",
       " 'Math': [85, 78, 92, 69, 88],\n",
       " 'Physics': [90, 72, 85, 60, 95],\n",
       " 'Chemistry': [78, 85, 80, 75, 92]}"
      ]
     },
     "execution_count": 7,
     "metadata": {},
     "output_type": "execute_result"
    }
   ],
   "source": [
    "data"
   ]
  },
  {
   "cell_type": "code",
   "execution_count": 9,
   "id": "eddea5d1-17c7-45da-a939-dac77e80e255",
   "metadata": {},
   "outputs": [
    {
     "data": {
      "text/plain": [
       "dict"
      ]
     },
     "execution_count": 9,
     "metadata": {},
     "output_type": "execute_result"
    }
   ],
   "source": [
    "type(data)"
   ]
  },
  {
   "cell_type": "code",
   "execution_count": 11,
   "id": "4fd3c78a-c18a-4960-8dc3-a6041853258f",
   "metadata": {},
   "outputs": [],
   "source": [
    "df = pd.DataFrame(data)"
   ]
  },
  {
   "cell_type": "code",
   "execution_count": 13,
   "id": "3292f436-c621-4866-9d42-84ecb24002ba",
   "metadata": {},
   "outputs": [
    {
     "data": {
      "text/html": [
       "<div>\n",
       "<style scoped>\n",
       "    .dataframe tbody tr th:only-of-type {\n",
       "        vertical-align: middle;\n",
       "    }\n",
       "\n",
       "    .dataframe tbody tr th {\n",
       "        vertical-align: top;\n",
       "    }\n",
       "\n",
       "    .dataframe thead th {\n",
       "        text-align: right;\n",
       "    }\n",
       "</style>\n",
       "<table border=\"1\" class=\"dataframe\">\n",
       "  <thead>\n",
       "    <tr style=\"text-align: right;\">\n",
       "      <th></th>\n",
       "      <th>Student</th>\n",
       "      <th>Math</th>\n",
       "      <th>Physics</th>\n",
       "      <th>Chemistry</th>\n",
       "    </tr>\n",
       "  </thead>\n",
       "  <tbody>\n",
       "    <tr>\n",
       "      <th>0</th>\n",
       "      <td>Alice</td>\n",
       "      <td>85</td>\n",
       "      <td>90</td>\n",
       "      <td>78</td>\n",
       "    </tr>\n",
       "    <tr>\n",
       "      <th>1</th>\n",
       "      <td>Bob</td>\n",
       "      <td>78</td>\n",
       "      <td>72</td>\n",
       "      <td>85</td>\n",
       "    </tr>\n",
       "    <tr>\n",
       "      <th>2</th>\n",
       "      <td>Charlie</td>\n",
       "      <td>92</td>\n",
       "      <td>85</td>\n",
       "      <td>80</td>\n",
       "    </tr>\n",
       "    <tr>\n",
       "      <th>3</th>\n",
       "      <td>David</td>\n",
       "      <td>69</td>\n",
       "      <td>60</td>\n",
       "      <td>75</td>\n",
       "    </tr>\n",
       "    <tr>\n",
       "      <th>4</th>\n",
       "      <td>Eva</td>\n",
       "      <td>88</td>\n",
       "      <td>95</td>\n",
       "      <td>92</td>\n",
       "    </tr>\n",
       "  </tbody>\n",
       "</table>\n",
       "</div>"
      ],
      "text/plain": [
       "   Student  Math  Physics  Chemistry\n",
       "0    Alice    85       90         78\n",
       "1      Bob    78       72         85\n",
       "2  Charlie    92       85         80\n",
       "3    David    69       60         75\n",
       "4      Eva    88       95         92"
      ]
     },
     "execution_count": 13,
     "metadata": {},
     "output_type": "execute_result"
    }
   ],
   "source": [
    "df"
   ]
  },
  {
   "cell_type": "code",
   "execution_count": 23,
   "id": "e509bf41-c32e-4f68-9d14-4703f931dd29",
   "metadata": {},
   "outputs": [],
   "source": [
    "df['Average Score'] = df[['Math', 'Physics', 'Chemistry']].mean(axis = 1)"
   ]
  },
  {
   "cell_type": "code",
   "execution_count": 25,
   "id": "1c1a40a2-68a0-4632-9193-36bdab009136",
   "metadata": {},
   "outputs": [
    {
     "data": {
      "text/html": [
       "<div>\n",
       "<style scoped>\n",
       "    .dataframe tbody tr th:only-of-type {\n",
       "        vertical-align: middle;\n",
       "    }\n",
       "\n",
       "    .dataframe tbody tr th {\n",
       "        vertical-align: top;\n",
       "    }\n",
       "\n",
       "    .dataframe thead th {\n",
       "        text-align: right;\n",
       "    }\n",
       "</style>\n",
       "<table border=\"1\" class=\"dataframe\">\n",
       "  <thead>\n",
       "    <tr style=\"text-align: right;\">\n",
       "      <th></th>\n",
       "      <th>Student</th>\n",
       "      <th>Math</th>\n",
       "      <th>Physics</th>\n",
       "      <th>Chemistry</th>\n",
       "      <th>Average Score</th>\n",
       "    </tr>\n",
       "  </thead>\n",
       "  <tbody>\n",
       "    <tr>\n",
       "      <th>0</th>\n",
       "      <td>Alice</td>\n",
       "      <td>85</td>\n",
       "      <td>90</td>\n",
       "      <td>78</td>\n",
       "      <td>84.333333</td>\n",
       "    </tr>\n",
       "    <tr>\n",
       "      <th>1</th>\n",
       "      <td>Bob</td>\n",
       "      <td>78</td>\n",
       "      <td>72</td>\n",
       "      <td>85</td>\n",
       "      <td>78.333333</td>\n",
       "    </tr>\n",
       "    <tr>\n",
       "      <th>2</th>\n",
       "      <td>Charlie</td>\n",
       "      <td>92</td>\n",
       "      <td>85</td>\n",
       "      <td>80</td>\n",
       "      <td>85.666667</td>\n",
       "    </tr>\n",
       "    <tr>\n",
       "      <th>3</th>\n",
       "      <td>David</td>\n",
       "      <td>69</td>\n",
       "      <td>60</td>\n",
       "      <td>75</td>\n",
       "      <td>68.000000</td>\n",
       "    </tr>\n",
       "    <tr>\n",
       "      <th>4</th>\n",
       "      <td>Eva</td>\n",
       "      <td>88</td>\n",
       "      <td>95</td>\n",
       "      <td>92</td>\n",
       "      <td>91.666667</td>\n",
       "    </tr>\n",
       "  </tbody>\n",
       "</table>\n",
       "</div>"
      ],
      "text/plain": [
       "   Student  Math  Physics  Chemistry  Average Score\n",
       "0    Alice    85       90         78      84.333333\n",
       "1      Bob    78       72         85      78.333333\n",
       "2  Charlie    92       85         80      85.666667\n",
       "3    David    69       60         75      68.000000\n",
       "4      Eva    88       95         92      91.666667"
      ]
     },
     "execution_count": 25,
     "metadata": {},
     "output_type": "execute_result"
    }
   ],
   "source": [
    "df"
   ]
  },
  {
   "cell_type": "code",
   "execution_count": 29,
   "id": "8fc1b84d-afb2-4a27-ae56-1528dd815c9d",
   "metadata": {},
   "outputs": [],
   "source": [
    "filtered_data = df[( df['Math'] > 80 ) &\n",
    "               ( df['Physics'] > 80 ) &\n",
    "                ( df['Chemistry'] > 80 )\n",
    "]\n"
   ]
  },
  {
   "cell_type": "code",
   "execution_count": 31,
   "id": "ae375c26-1183-4cc0-b8d3-b101339b20c9",
   "metadata": {},
   "outputs": [
    {
     "name": "stdout",
     "output_type": "stream",
     "text": [
      "  Student  Math  Physics  Chemistry  Average Score\n",
      "4     Eva    88       95         92      91.666667\n"
     ]
    }
   ],
   "source": [
    "print(filtered_data)"
   ]
  },
  {
   "cell_type": "code",
   "execution_count": 37,
   "id": "cbf6470b-ec77-44c2-b71c-1b8c49228def",
   "metadata": {},
   "outputs": [],
   "source": [
    "highest_score = df[['Math', 'Physics', 'Chemistry']].max()"
   ]
  },
  {
   "cell_type": "code",
   "execution_count": 39,
   "id": "959a5c85-7fba-4a71-aad7-eafaf86e853b",
   "metadata": {},
   "outputs": [
    {
     "name": "stdout",
     "output_type": "stream",
     "text": [
      "Math         92\n",
      "Physics      95\n",
      "Chemistry    92\n",
      "dtype: int64\n"
     ]
    }
   ],
   "source": [
    "print(highest_score)"
   ]
  },
  {
   "cell_type": "code",
   "execution_count": null,
   "id": "c6e8571d-b7d9-46de-98f5-81aed06c0fbd",
   "metadata": {},
   "outputs": [],
   "source": []
  }
 ],
 "metadata": {
  "kernelspec": {
   "display_name": "Python [conda env:base] *",
   "language": "python",
   "name": "conda-base-py"
  },
  "language_info": {
   "codemirror_mode": {
    "name": "ipython",
    "version": 3
   },
   "file_extension": ".py",
   "mimetype": "text/x-python",
   "name": "python",
   "nbconvert_exporter": "python",
   "pygments_lexer": "ipython3",
   "version": "3.12.7"
  }
 },
 "nbformat": 4,
 "nbformat_minor": 5
}
