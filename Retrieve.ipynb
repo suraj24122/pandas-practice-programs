{
 "cells": [
  {
   "cell_type": "code",
   "execution_count": 1,
   "id": "3ab6baeb-7d1a-432a-bf76-956a57480441",
   "metadata": {},
   "outputs": [],
   "source": [
    " # Retrieve the value corresponding to label D and also retrieve the first 3 elements using slicing."
   ]
  },
  {
   "cell_type": "code",
   "execution_count": 3,
   "id": "6a51ce9a-7071-4d2a-9823-46c286c64728",
   "metadata": {},
   "outputs": [],
   "source": [
    "import numpy as np\n",
    "import pandas as pd"
   ]
  },
  {
   "cell_type": "code",
   "execution_count": 10,
   "id": "701558b2-edb1-409d-ba5b-97f9f1e419f2",
   "metadata": {},
   "outputs": [
    {
     "data": {
      "text/plain": [
       "array([ 2, 12, 18,  4, 13])"
      ]
     },
     "execution_count": 10,
     "metadata": {},
     "output_type": "execute_result"
    }
   ],
   "source": [
    "random_series = np.random.randint(1, 19, 5)\n",
    "random_series"
   ]
  },
  {
   "cell_type": "code",
   "execution_count": 12,
   "id": "9373b51b-14ff-4461-a982-dc90c0843d06",
   "metadata": {},
   "outputs": [
    {
     "name": "stdout",
     "output_type": "stream",
     "text": [
      "A     2\n",
      "B    12\n",
      "C    18\n",
      "D     4\n",
      "E    13\n",
      "dtype: int32\n"
     ]
    }
   ],
   "source": [
    "series = pd.Series(random_series, index = [\"A\", \"B\", \"C\", \"D\", \"E\"])\n",
    "print(series)"
   ]
  },
  {
   "cell_type": "code",
   "execution_count": 22,
   "id": "fcd4dee9-cab2-4fec-8233-d04bbd41bd3d",
   "metadata": {},
   "outputs": [
    {
     "data": {
      "text/plain": [
       "A     2\n",
       "B    12\n",
       "C    18\n",
       "dtype: int32"
      ]
     },
     "execution_count": 22,
     "metadata": {},
     "output_type": "execute_result"
    }
   ],
   "source": [
    "series[:3]"
   ]
  },
  {
   "cell_type": "code",
   "execution_count": 25,
   "id": "1d9f97e0-59f4-4edf-a1f9-b2c7451bd0e0",
   "metadata": {},
   "outputs": [
    {
     "data": {
      "text/plain": [
       "4"
      ]
     },
     "execution_count": 25,
     "metadata": {},
     "output_type": "execute_result"
    }
   ],
   "source": [
    "series[\"D\"]"
   ]
  },
  {
   "cell_type": "code",
   "execution_count": 27,
   "id": "b51f14ee-ec01-4fb2-a0f2-e45c03448ff9",
   "metadata": {},
   "outputs": [
    {
     "name": "stdout",
     "output_type": "stream",
     "text": [
      "4\n"
     ]
    }
   ],
   "source": [
    "# or else\n",
    "series_loc = series.loc[\"D\"]\n",
    "print(series_loc)"
   ]
  },
  {
   "cell_type": "code",
   "execution_count": null,
   "id": "c4e81fab-44d8-4277-ad7b-42e9527de019",
   "metadata": {},
   "outputs": [],
   "source": []
  }
 ],
 "metadata": {
  "kernelspec": {
   "display_name": "Python [conda env:base] *",
   "language": "python",
   "name": "conda-base-py"
  },
  "language_info": {
   "codemirror_mode": {
    "name": "ipython",
    "version": 3
   },
   "file_extension": ".py",
   "mimetype": "text/x-python",
   "name": "python",
   "nbconvert_exporter": "python",
   "pygments_lexer": "ipython3",
   "version": "3.12.7"
  }
 },
 "nbformat": 4,
 "nbformat_minor": 5
}
