{
 "cells": [
  {
   "cell_type": "code",
   "execution_count": 1,
   "id": "f060bdd8-60e3-4288-9703-0d03fb204c13",
   "metadata": {},
   "outputs": [],
   "source": [
    "# Change the index of the Series to be some custom labels like A, B, C,..."
   ]
  },
  {
   "cell_type": "code",
   "execution_count": 6,
   "id": "1c0b58dc-9417-470a-9eae-bd68a64c74d0",
   "metadata": {},
   "outputs": [],
   "source": [
    "import numpy as np\n",
    "import pandas as pd"
   ]
  },
  {
   "cell_type": "code",
   "execution_count": 8,
   "id": "b51101d4-d101-4bcc-b5f0-3b59e488cab3",
   "metadata": {},
   "outputs": [
    {
     "data": {
      "text/plain": [
       "array([9, 3, 3])"
      ]
     },
     "execution_count": 8,
     "metadata": {},
     "output_type": "execute_result"
    }
   ],
   "source": [
    "random_series = np.random.randint(1, 10, 3)\n",
    "random_series"
   ]
  },
  {
   "cell_type": "code",
   "execution_count": 19,
   "id": "3d91739a-73dd-4ea8-a49f-9bcce0fbfdba",
   "metadata": {},
   "outputs": [],
   "source": [
    "series = pd.Series(random_series ,index = [\"a\", \"b\", \"c\"])"
   ]
  },
  {
   "cell_type": "code",
   "execution_count": 21,
   "id": "1b625b58-9b09-43a8-9d63-a2acce7315f1",
   "metadata": {},
   "outputs": [
    {
     "name": "stdout",
     "output_type": "stream",
     "text": [
      "a    9\n",
      "b    3\n",
      "c    3\n",
      "dtype: int32\n"
     ]
    }
   ],
   "source": [
    "print(series)"
   ]
  },
  {
   "cell_type": "code",
   "execution_count": null,
   "id": "d2aaf913-1bba-439d-99fa-86b364d7badd",
   "metadata": {},
   "outputs": [],
   "source": []
  }
 ],
 "metadata": {
  "kernelspec": {
   "display_name": "Python [conda env:base] *",
   "language": "python",
   "name": "conda-base-py"
  },
  "language_info": {
   "codemirror_mode": {
    "name": "ipython",
    "version": 3
   },
   "file_extension": ".py",
   "mimetype": "text/x-python",
   "name": "python",
   "nbconvert_exporter": "python",
   "pygments_lexer": "ipython3",
   "version": "3.12.7"
  }
 },
 "nbformat": 4,
 "nbformat_minor": 5
}
